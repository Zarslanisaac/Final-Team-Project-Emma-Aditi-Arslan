{
 "cells": [
  {
   "cell_type": "code",
   "execution_count": 7,
   "id": "8e368f5a-d72f-4e58-99a2-0f05cd6edfd8",
   "metadata": {},
   "outputs": [
    {
     "name": "stdout",
     "output_type": "stream",
     "text": [
      "\u001b[1m   \u001b[0m\n",
      "\u001b[1m   Team Project - Bootstrap Sampling:\u001b[0m\n",
      "\u001b[1m   \u001b[0m\n",
      "Estimated Mean Price (Bootstrap): 8851.17\n",
      "95% Confidence Interval: (8788.79, 8912.78)\n",
      "\n",
      "The number of Bootstrap sample generated are 1000. \n",
      "\n",
      "Your bootstrap sampling results suggest that the estimated mean car price is 8851.17, 95% Confidence \n",
      "Interval sure that the actual average price of all cars in the population is between the lower and upper bounds of \n",
      "the interval 8788.79 and 8912.78.\n",
      "\n",
      "Both results are quite close, and they suggest that the true mean car price is expected to fall within a narrow range around \n",
      "8851.17.\n",
      "\n",
      "In summary, the bootstrap method gives an estimate of the mean price and shows how precise that estimate is based on the confidence interval.\n",
      "\n",
      "\n"
     ]
    }
   ],
   "source": [
    "print(\"\\033[1m   \\033[0m\")                                                         #create a blank row\n",
    "print(\"\\033[1m   Team Project - Bootstrap Sampling:\\033[0m\")                       #assign answer number\n",
    "print(\"\\033[1m   \\033[0m\")                                                         #create a blank row\n",
    "import numpy as np\n",
    "import pandas as pd\n",
    "file_path = \"C:/Users/Isaac/Desktop/Car-Dataset.xlsx\"                              #Load data file\n",
    "df = pd.read_excel(file_path, sheet_name=\"car_price_dataset\")                      #Read data file\n",
    "n_bootstrap = 1000                                                                 #Bootstrap samples\n",
    "                                                                                   #Generate bootstrap samples to calce mean\n",
    "bootstrap_means = [\n",
    "    np.mean(np.random.choice(df[\"Price\"], size=len(df), replace=True))\n",
    "    for _ in range(n_bootstrap)\n",
    "]\n",
    "lower_bound, upper_bound = np.percentile(bootstrap_means, [2.5, 97.5])              #Confidence interval 95%\n",
    "print(f\"Estimated Mean Price (Bootstrap): {np.mean(bootstrap_means):.2f}\")                      #Display results\n",
    "print(f\"95% Confidence Interval: ({lower_bound:.2f}, {upper_bound:.2f})\")\n",
    "                                                                                    #Interpret results \n",
    "print(f\"\"\"\n",
    "The number of Bootstrap sample generated are 1000. \n",
    "\n",
    "Your bootstrap sampling results suggest that the estimated mean car price is {np.mean(bootstrap_means):.2f}, 95% Confidence \n",
    "Interval sure that the actual average price of all cars in the population is between the lower and upper bounds of \n",
    "the interval {lower_bound:.2f} and {upper_bound:.2f}.\n",
    "\n",
    "Both results are quite close, and they suggest that the true mean car price is expected to fall within a narrow range around \n",
    "{np.mean(bootstrap_means):.2f}.\n",
    "\n",
    "In summary, the bootstrap method gives an estimate of the mean price and shows how precise that estimate is based on the confidence interval.\n",
    "\n",
    "\"\"\")\n"
   ]
  },
  {
   "cell_type": "code",
   "execution_count": 19,
   "id": "746de835-5f5c-40f3-b286-af8b8028823c",
   "metadata": {},
   "outputs": [
    {
     "name": "stdout",
     "output_type": "stream",
     "text": [
      "\u001b[1m   \u001b[0m\n",
      "\u001b[1m   Team Project - Bayesian Model:\u001b[0m\n",
      "\u001b[1m   \u001b[0m\n"
     ]
    },
    {
     "name": "stderr",
     "output_type": "stream",
     "text": [
      "sample: 100%|██████████████████████████| 2500/2500 [00:01<00:00, 1861.41it/s, 3 steps of size 8.60e-01. acc. prob=0.88]\n",
      "sample: 100%|██████████████████████████| 2500/2500 [00:00<00:00, 3054.83it/s, 3 steps of size 8.70e-01. acc. prob=0.89]"
     ]
    },
    {
     "name": "stdout",
     "output_type": "stream",
     "text": [
      "Estimated Mean Price (Bayesian): $8852.95\n",
      "Estimated Standard Deviation: $3113.57\n",
      "\n",
      "The average car price is estimated to be approximately $8852.95.\n",
      "The standard deviation of the car prices is estimated to be about $3,113.57, meaning that there is considerable \n",
      "variation in the prices (about 35% of the mean price).\n",
      "\n",
      "The posterior mu values being close to zero after running 2000 samples in the normalized space confirm that the estimated mean price is close \n",
      "to the original mean price of the dataset, with only small deviations in the posterior samples.\n",
      "\n",
      "The posterior sigma values being close to 1 after running 2000 samples in the normalized space confirm that the estimated standard deviation is \n",
      "quite consistent with the normalization process, and the standard deviation of the car prices is also close to the \n",
      "original spread of the data.\n",
      "\n",
      "In summary, the Bayesian model estimates the mean price of cars to be around $8852.95 with a standard deviation of about $3113.57, \n",
      "suggesting moderate variability in the prices. The model's posterior estimates are quite stable and suggest that the average car\n",
      "price is not far from the original dataset's mean price.\n",
      "\n",
      "\n"
     ]
    },
    {
     "name": "stderr",
     "output_type": "stream",
     "text": [
      "\n"
     ]
    }
   ],
   "source": [
    "print(\"\\033[1m   \\033[0m\")                                                         #create a blank row\n",
    "print(\"\\033[1m   Team Project - Bayesian Model:\\033[0m\")                           #assign answer number\n",
    "print(\"\\033[1m   \\033[0m\")                                                         #create a blank row\n",
    "import numpy as np\n",
    "import pandas as pd\n",
    "import matplotlib.pyplot as plt\n",
    "import arviz as az\n",
    "import jax.numpy as jnp\n",
    "import jax.random as random\n",
    "import numpyro\n",
    "import numpyro.distributions as dist\n",
    "from numpyro.infer import MCMC, NUTS\n",
    "from scipy import stats\n",
    "import warnings\n",
    "                                                                                  #Suppress warnings\n",
    "warnings.filterwarnings(\"ignore\", message=\"There are not enough devices to run parallel chains\")\n",
    "                                                                                  #Set available devices to 1 for execution\n",
    "numpyro.set_host_device_count(1)\n",
    "file_path = \"C:/Users/Isaac/Desktop/Car-Dataset.xlsx\"                             #Load data\n",
    "df = pd.read_excel(file_path)                                                     #Read data\n",
    "price_data = df[\"Price\"].dropna().values                                          #Remove missing values\n",
    "price_mean = np.mean(price_data)\n",
    "price_std = np.std(price_data)\n",
    "normalized_prices = (price_data - price_mean) / price_std\n",
    "def bayesian_model():                                                             #Bayesian model\n",
    "    mu = numpyro.sample(\"mu\", dist.Normal(0, 1))                                  #For mean\n",
    "    sigma = numpyro.sample(\"sigma\", dist.HalfNormal(1))                           #For std deviation\n",
    "    numpyro.sample(\"obs\", dist.Normal(mu, sigma), obs=jnp.array(normalized_prices))\n",
    "rng_key = random.PRNGKey(0)                                                       #Markov Chain Monte Carlo in Bayesian Inference\n",
    "nuts_kernel = NUTS(bayesian_model)  \n",
    "mcmc = MCMC(nuts_kernel, num_samples=2000, num_warmup=500, num_chains=2)          #Generate 2000 samples\n",
    "mcmc.run(rng_key)\n",
    "                                                                                  #Posterior samples\n",
    "posterior_samples = mcmc.get_samples()\n",
    "mu_post = posterior_samples[\"mu\"] * price_std + price_mean                        #Convert to original scale\n",
    "sigma_post = posterior_samples[\"sigma\"] * price_std\n",
    "mu_mean = np.mean(mu_post)                                                        #mean of posterior samples\n",
    "sigma_mean = np.mean(sigma_post)                                                  #std from the posterior samples\n",
    "\n",
    "#print(\"Raw Posterior mu mean samples (normalized):\", posterior_samples[\"mu\"][:500])  # First 10 samples for inspection\n",
    "#print(\"Raw Posterior sigma standard deviation samples (normalized):\", posterior_samples[\"sigma\"][:500])  # First 10 samples for inspection\n",
    "                                                                                  # Print results\n",
    "print(f\"Estimated Mean Price (Bayesian): ${mu_mean:.2f}\")\n",
    "print(f\"Estimated Standard Deviation: ${sigma_mean:.2f}\")\n",
    "\n",
    "\n",
    "print(f\"\"\"\n",
    "The average car price is estimated to be approximately ${mu_mean:.2f}.\n",
    "The standard deviation of the car prices is estimated to be about $3,113.57, meaning that there is considerable \n",
    "variation in the prices (about 35% of the mean price).\n",
    "\n",
    "The posterior mu values being close to zero after running 2000 samples in the normalized space confirm that the estimated mean price is close \n",
    "to the original mean price of the dataset, with only small deviations in the posterior samples.\n",
    "\n",
    "The posterior sigma values being close to 1 after running 2000 samples in the normalized space confirm that the estimated standard deviation is \n",
    "quite consistent with the normalization process, and the standard deviation of the car prices is also close to the \n",
    "original spread of the data.\n",
    "\n",
    "In summary, the Bayesian model estimates the mean price of cars to be around ${mu_mean:.2f} with a standard deviation of about ${sigma_mean:.2f}, \n",
    "suggesting moderate variability in the prices. The model's posterior estimates are quite stable and suggest that the average car\n",
    "price is not far from the original dataset's mean price.\n",
    "\n",
    "\"\"\")\n"
   ]
  },
  {
   "cell_type": "code",
   "execution_count": null,
   "id": "dff5911c-746a-4b31-8e4d-9bde61e7d592",
   "metadata": {
    "scrolled": true
   },
   "outputs": [],
   "source": []
  },
  {
   "cell_type": "code",
   "execution_count": null,
   "id": "2f735601-a3b4-4caa-adc0-11b783d2cbf5",
   "metadata": {},
   "outputs": [],
   "source": []
  },
  {
   "cell_type": "code",
   "execution_count": null,
   "id": "ce357c99-8a6c-4568-b05a-a52cf9c9161f",
   "metadata": {},
   "outputs": [],
   "source": []
  },
  {
   "cell_type": "code",
   "execution_count": null,
   "id": "07ada936-167e-4ca4-a2f6-bfed57736311",
   "metadata": {},
   "outputs": [],
   "source": []
  },
  {
   "cell_type": "code",
   "execution_count": null,
   "id": "68a62bef-9f30-4a2c-873c-3a91b1e5cdfc",
   "metadata": {},
   "outputs": [],
   "source": []
  },
  {
   "cell_type": "code",
   "execution_count": null,
   "id": "24d46266-8831-4b02-b44a-195366f49240",
   "metadata": {},
   "outputs": [],
   "source": []
  },
  {
   "cell_type": "code",
   "execution_count": null,
   "id": "12df256d-4435-4d6d-86a3-d6cf94e5df6c",
   "metadata": {},
   "outputs": [],
   "source": []
  }
 ],
 "metadata": {
  "kernelspec": {
   "display_name": "Python 3 (ipykernel)",
   "language": "python",
   "name": "python3"
  },
  "language_info": {
   "codemirror_mode": {
    "name": "ipython",
    "version": 3
   },
   "file_extension": ".py",
   "mimetype": "text/x-python",
   "name": "python",
   "nbconvert_exporter": "python",
   "pygments_lexer": "ipython3",
   "version": "3.12.7"
  }
 },
 "nbformat": 4,
 "nbformat_minor": 5
}
